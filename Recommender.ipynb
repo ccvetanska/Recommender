{
 "cells": [
  {
   "cell_type": "markdown",
   "id": "a2f081a7",
   "metadata": {},
   "source": [
    "# Movie Recommender "
   ]
  },
  {
   "cell_type": "code",
   "execution_count": 1,
   "id": "db8ae2e4",
   "metadata": {},
   "outputs": [],
   "source": [
    "import torch"
   ]
  }
 ],
 "metadata": {
  "kernelspec": {
   "display_name": ".venv",
   "language": "python",
   "name": "python3"
  },
  "language_info": {
   "codemirror_mode": {
    "name": "ipython",
    "version": 3
   },
   "file_extension": ".py",
   "mimetype": "text/x-python",
   "name": "python",
   "nbconvert_exporter": "python",
   "pygments_lexer": "ipython3",
   "version": "3.11.9"
  }
 },
 "nbformat": 4,
 "nbformat_minor": 5
}
